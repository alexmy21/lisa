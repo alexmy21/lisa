{
 "cells": [
  {
   "cell_type": "code",
   "execution_count": 2,
   "metadata": {},
   "outputs": [
    {
     "data": {
      "text/plain": [
       "HllSet{10}()"
      ]
     },
     "metadata": {},
     "output_type": "display_data"
    }
   ],
   "source": [
    "using Random\n",
    "include(\"src/lisa.jl\")\n",
    "\n",
    "# Initialize test HllSets\n",
    "hll1 = HllSet{10}()\n",
    "hll2 = HllSet{10}()\n",
    "hll3 = HllSet{10}()\n",
    "hll4 = HllSet{10}()\n",
    "hll5 = HllSet{10}()\n",
    "\n",
    "# Generate datasets from random strings\n",
    "s1 = Set(randstring(7) for _ in 1:10)\n",
    "s2 = Set(randstring(7) for _ in 1:15)\n",
    "s3 = Set(randstring(7) for _ in 1:100)\n",
    "s4 = Set(randstring(7) for _ in 1:20)\n",
    "s5 = Set(randstring(7) for _ in 1:130)\n",
    "\n",
    "# Add datasets to HllSets\n",
    "add!(hll1, s1)\n",
    "add!(hll2, s2)\n",
    "add!(hll3, s3)\n",
    "add!(hll4, s4)\n",
    "add!(hll5, s5)\n"
   ]
  },
  {
   "cell_type": "code",
   "execution_count": 3,
   "metadata": {},
   "outputs": [
    {
     "name": "stdout",
     "output_type": "stream",
     "text": [
      "10 : 10\n",
      "15 : 16\n",
      "100 : 97\n",
      "20 : 20\n",
      "130 : 130\n",
      "\n"
     ]
    },
    {
     "name": "stdout",
     "output_type": "stream",
     "text": [
      "275 : 274\n"
     ]
    },
    {
     "name": "stdout",
     "output_type": "stream",
     "text": [
      "0 : 1\n"
     ]
    }
   ],
   "source": [
    "# Pr9nt cardinality of datasets and HllSets side by side\n",
    "print(length(s1), \" : \", count(hll1), \"\\n\")\n",
    "print(length(s2), \" : \", count(hll2), \"\\n\")\n",
    "print(length(s3), \" : \", count(hll3), \"\\n\")\n",
    "print(length(s4), \" : \", count(hll4), \"\\n\")\n",
    "print(length(s5), \" : \", count(hll5), \"\\n\\n\")\n",
    "\n",
    "# union\n",
    "print(length(s1 ∪ s2 ∪ s3 ∪ s4 ∪ s5), \" : \", count(hll1 ∪ hll2 ∪ hll3 ∪ hll4 ∪ hll5), \"\\n\")\n",
    "\n",
    "# intersection\n",
    "print(length(s1 ∩ s2 ∩ s3 ∩ s4 ∩ s5), \" : \", count(hll1 ∩ hll2 ∩ hll3 ∩ hll4 ∩ hll5), \"\\n\")\n"
   ]
  },
  {
   "cell_type": "code",
   "execution_count": 4,
   "metadata": {},
   "outputs": [
    {
     "name": "stdout",
     "output_type": "stream",
     "text": [
      "12\n",
      "11\n"
     ]
    }
   ],
   "source": [
    "hll_1 = HllSet{10}()\n",
    "hll_2 = HllSet{10}()\n",
    "\n",
    "items_t1 = Set([\"string0\", \"string1\", \"string2\", \"string3\", \"string4\", \"string5\", \"string6\", \"string7\", \"string8\", \"string9\", \"string10\", \"string11\"])\n",
    "items_t2 = Set([\"string2\", \"string3\", \"string4\", \"string5\", \"string6\", \"string7\", \"string8\", \"string9\", \"string10\", \"string12\", \"string10\", \"string11\"])\n",
    "\n",
    "add!(hll_1, items_t1)\n",
    "add!(hll_2, items_t2)\n",
    "\n",
    "print(count(hll_1), \"\\n\")\n",
    "print(count(hll_2), \"\\n\")"
   ]
  },
  {
   "cell_type": "code",
   "execution_count": 5,
   "metadata": {},
   "outputs": [
    {
     "name": "stdout",
     "output_type": "stream",
     "text": [
      "Delta: ("
     ]
    },
    {
     "name": "stdout",
     "output_type": "stream",
     "text": [
      "D = 2, R = 10, N = 1)\n"
     ]
    }
   ],
   "source": [
    "delta1 = delta(hll_1, hll_2)\n",
    "print(\"Delta: \", delta1, \"\\n\")\n"
   ]
  },
  {
   "cell_type": "code",
   "execution_count": 6,
   "metadata": {},
   "outputs": [
    {
     "name": "stdout",
     "output_type": "stream",
     "text": [
      "\n",
      "delta2: (D = 3, R = 8, N = 0)"
     ]
    },
    {
     "name": "stdout",
     "output_type": "stream",
     "text": [
      "\n",
      "grad_2-3: 2.449489742783178"
     ]
    }
   ],
   "source": [
    "using LinearAlgebra\n",
    "\n",
    "# There are many way to define gradient, here is one using Euclidean distance\n",
    "function grad(delta1::NamedTuple, delta2::NamedTuple)\n",
    "    vec1 = collect(values(delta1))\n",
    "    vec2 = collect(values(delta2))\n",
    "\n",
    "    return norm(vec1 - vec2)\n",
    "end\n",
    "\n",
    "hll_3 = HllSet{10}()\n",
    "items_t3 = Set([\"string4\", \"string5\", \"string6\", \"string7\", \"string8\", \"string9\", \"string10\", \"string11\", ])\n",
    "add!(hll_3, items_t3)\n",
    "\n",
    "delta2 = delta(hll_2, hll_3)\n",
    "\n",
    "print(\"\\ndelta2: \", delta2)\n",
    "\n",
    "print(\"\\ngrad_2-3: \", grad(delta1, delta2))\n"
   ]
  },
  {
   "cell_type": "code",
   "execution_count": 14,
   "metadata": {},
   "outputs": [
    {
     "name": "stdout",
     "output_type": "stream",
     "text": [
      "\n",
      "1. (A ∪ B) = (B ∪ A): true\n",
      "2. (A ∩ B) = (B ∩ A): true\n",
      "3. (A ∪ B) ∪ C) = (A ∪ (B ∪ C)): true\n",
      "4. (A ∩ B) ∩ C) = (A ∩ (B ∩ C)): true\n",
      "5. ((A ∪ B) ∩ C) = (A ∩ C) ∪ (B ∩ C): true\n",
      "6. ((A ∩ B) ∪ C) = (A ∪ C) ∩ (B ∪ C): true\n",
      "7. (A ∪ Z) = A: true\n",
      "8. (A ∩ U) = A: true\n",
      "9. (A ∪ A) = A: true\n",
      "10. (A ∩ U) = A: true"
     ]
    }
   ],
   "source": [
    "# Proving Fundamental Set properties\n",
    "#-------------------\n",
    "\n",
    "\"\"\"\n",
    "Fundamental properties:\n",
    "    Commutative property\n",
    "                1. (A ∪ B) = (B ∪ A)\n",
    "                2. (A ∩ B) = (B ∩ A)\n",
    "        Associative property\n",
    "                3. (A ∪ B) ∪ C) = (A ∪ (B ∪ C))\n",
    "                4. (A ∩ B) ∩ C) = (A ∩ (B ∩ C))\n",
    "        Distributive property:\n",
    "                5. ((A ∪ B) ∩ C) = (A ∩ C) ∪ (B ∩ C)\n",
    "                6. ((A ∩ B) ∪ C) = (A ∪ C) ∩ (B ∪ C)\n",
    "        Identity:\n",
    "                7. (A ∪ Z) = A\n",
    "                8. (A ∩ U) = A\n",
    "Some additional laws:        \n",
    "        Idempotent laws:\n",
    "                9. (A ∪ A) = A\n",
    "                10. (A ∩ U) = A\n",
    "\"\"\"\n",
    "A = hll_1\n",
    "B = hll_2\n",
    "C = hll_3\n",
    "\n",
    "# Defining local empty Set\n",
    "Z = HllSet{10}()\n",
    "\n",
    "# Defining local universal Set\n",
    "U = A ∪ B ∪ C\n",
    "\n",
    "print(\"\\n1. (A ∪ B) = (B ∪ A): \", count(A ∪ B) == count(B ∪ A))\n",
    "print(\"\\n2. (A ∩ B) = (B ∩ A): \", count(A ∩ B) == count(B ∩ A))\n",
    "print(\"\\n3. (A ∪ B) ∪ C) = (A ∪ (B ∪ C)): \", count((A ∪ B) ∪ C) == count(A ∪ (B ∪ C)))\n",
    "print(\"\\n4. (A ∩ B) ∩ C) = (A ∩ (B ∩ C)): \", count((A ∩ B) ∩ C) == count(A ∩ (B ∩ C)))\n",
    "print(\"\\n5. ((A ∪ B) ∩ C) = (A ∩ C) ∪ (B ∩ C): \", count(((A ∪ B) ∩ C)) == count((A ∩ C) ∪ (B ∩ C)))\n",
    "print(\"\\n6. ((A ∩ B) ∪ C) = (A ∪ C) ∩ (B ∪ C): \", count(((A ∩ B) ∪ C)) == count((A ∪ C) ∩ (B ∪ C)))\n",
    "print(\"\\n7. (A ∪ Z) = A: \", count(A ∪ Z) == count(A))\n",
    "print(\"\\n8. (A ∩ U) = A: \", count(A ∩ U) == count(A))\n",
    "print(\"\\n9. (A ∪ A) = A: \", count(A ∪ A) == count(A))\n",
    "print(\"\\n10. (A ∩ U) = A: \", count(A ∩ U) == count(A))\n"
   ]
  },
  {
   "cell_type": "code",
   "execution_count": 7,
   "metadata": {},
   "outputs": [
    {
     "name": "stderr",
     "output_type": "stream",
     "text": [
      "\u001b[32m\u001b[1m   Resolving\u001b[22m\u001b[39m package versions...\n"
     ]
    },
    {
     "name": "stderr",
     "output_type": "stream",
     "text": [
      "\u001b[32m\u001b[1m  No Changes\u001b[22m\u001b[39m to `~/JULIA/lisa/Project.toml`\n",
      "\u001b[32m\u001b[1m  No Changes\u001b[22m\u001b[39m to `~/JULIA/lisa/Manifest.toml`\n"
     ]
    },
    {
     "name": "stderr",
     "output_type": "stream",
     "text": [
      "\u001b[32m\u001b[1m   Resolving\u001b[22m\u001b[39m package versions...\n"
     ]
    },
    {
     "name": "stderr",
     "output_type": "stream",
     "text": [
      "\u001b[32m\u001b[1m  No Changes\u001b[22m\u001b[39m to `~/JULIA/lisa/Project.toml`\n",
      "\u001b[32m\u001b[1m  No Changes\u001b[22m\u001b[39m to `~/JULIA/lisa/Manifest.toml`\n"
     ]
    },
    {
     "name": "stderr",
     "output_type": "stream",
     "text": [
      "\u001b[32m\u001b[1m   Resolving\u001b[22m\u001b[39m package versions...\n"
     ]
    },
    {
     "name": "stderr",
     "output_type": "stream",
     "text": [
      "\u001b[32m\u001b[1m  No Changes\u001b[22m\u001b[39m to `~/JULIA/lisa/Project.toml`\n",
      "\u001b[32m\u001b[1m  No Changes\u001b[22m\u001b[39m to `~/JULIA/lisa/Manifest.toml`\n"
     ]
    },
    {
     "data": {
      "text/plain": [
       "get_image (generic function with 2 methods)"
      ]
     },
     "metadata": {},
     "output_type": "display_data"
    }
   ],
   "source": [
    "using Pkg\n",
    "Pkg.add(\"Images\")\n",
    "Pkg.add(\"ImageMagick\")\n",
    "Pkg.add(\"ImageTransformations\")\n",
    "\n",
    "\n",
    "using Images, ImageMagick, ImageTransformations\n",
    "\n",
    "function get_image(url::String, token_size::Int=7)\n",
    "\n",
    "    # Load the image and convert it to grayscale\n",
    "    img = load(url)\n",
    "    img_gray = Gray.(img)\n",
    "\n",
    "    # Resize image\n",
    "    new_width = 120\n",
    "    aspect_ratio = size(img)[1] / size(img)[2]\n",
    "    new_height = round(Int, aspect_ratio * new_width * 0.55)\n",
    "    img_resized = imresize(img_gray, (new_height, new_width))\n",
    "\n",
    "    # Define ASCII characters\n",
    "    ascii_chars = \"@%#*+=-:. \"\n",
    "\n",
    "    # Map each pixel to an ASCII character\n",
    "    ascii_img = \"\"\n",
    "    for row in eachrow(img_resized)\n",
    "        for pixel in row\n",
    "            ascii_img *= ascii_chars[round(Int, (gray(pixel) * (length(ascii_chars) - 1))) + 1]\n",
    "        end\n",
    "        ascii_img *= '\\n'\n",
    "    end\n",
    "\n",
    "    # Split ASCII representation into tokens of size token_size\n",
    "    return Set([ascii_img[i:min(i + (token_size - 1), end)] for i in 1:token_size:length(ascii_img)])\n",
    "end"
   ]
  }
 ],
 "metadata": {
  "kernelspec": {
   "display_name": "Julia 1.9.2",
   "language": "julia",
   "name": "julia-1.9"
  },
  "language_info": {
   "file_extension": ".jl",
   "mimetype": "application/julia",
   "name": "julia",
   "version": "1.9.2"
  }
 },
 "nbformat": 4,
 "nbformat_minor": 2
}
