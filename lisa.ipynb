{
 "cells": [
  {
   "cell_type": "code",
   "execution_count": 18,
   "metadata": {},
   "outputs": [
    {
     "name": "stderr",
     "output_type": "stream",
     "text": [
      "WARNING: redefinition of constant RAW_ARRAYS. This may fail, cause incorrect answers, or produce other errors.\n",
      "WARNING: redefinition of constant BIAS_ARRAYS. This may fail, cause incorrect answers, or produce other errors.\n"
     ]
    },
    {
     "data": {
      "text/plain": [
       "HllSet{10}()"
      ]
     },
     "metadata": {},
     "output_type": "display_data"
    }
   ],
   "source": [
    "using Random\n",
    "include(\"src/lisa.jl\")\n",
    "\n",
    "hll1 = HllSet{10}()\n",
    "hll2 = HllSet{10}()\n",
    "hll3 = HllSet{10}()\n",
    "hll4 = HllSet{10}()\n",
    "hll5 = HllSet{10}()\n",
    "\n",
    "s1 = Set(randstring(7) for _ in 1:10)\n",
    "s2 = Set(randstring(7) for _ in 1:15)\n",
    "s3 = Set(randstring(7) for _ in 1:100)\n",
    "s4 = Set(randstring(7) for _ in 1:20)\n",
    "s5 = Set(randstring(7) for _ in 1:130)\n",
    "\n",
    "\n",
    "add!(hll1, s1)\n",
    "add!(hll2, s2)\n",
    "add!(hll3, s3)\n",
    "add!(hll4, s4)\n",
    "add!(hll5, s5)\n"
   ]
  },
  {
   "cell_type": "code",
   "execution_count": 19,
   "metadata": {},
   "outputs": [
    {
     "name": "stdout",
     "output_type": "stream",
     "text": [
      "10 : 9\n",
      "15 : 15\n",
      "100 : 105\n",
      "20 : 20\n",
      "130 : 125\n",
      "\n"
     ]
    },
    {
     "name": "stdout",
     "output_type": "stream",
     "text": [
      "275 : 275\n",
      "0 : 1\n"
     ]
    }
   ],
   "source": [
    "print(length(s1), \" : \", count(hll1), \"\\n\")\n",
    "print(length(s2), \" : \", count(hll2), \"\\n\")\n",
    "print(length(s3), \" : \", count(hll3), \"\\n\")\n",
    "print(length(s4), \" : \", count(hll4), \"\\n\")\n",
    "print(length(s5), \" : \", count(hll5), \"\\n\\n\")\n",
    "\n",
    "# union\n",
    "print(length(s1 ∪ s2 ∪ s3 ∪ s4 ∪ s5), \" : \", count(hll1 ∪ hll2 ∪ hll3 ∪ hll4 ∪ hll5), \"\\n\")\n",
    "\n",
    "# intersection\n",
    "print(length(s1 ∩ s2 ∩ s3 ∩ s4 ∩ s5), \" : \", count(hll1 ∩ hll2 ∩ hll3 ∩ hll4 ∩ hll5), \"\\n\")\n"
   ]
  },
  {
   "cell_type": "code",
   "execution_count": 3,
   "metadata": {},
   "outputs": [
    {
     "data": {
      "text/plain": [
       "HllSet{10}()"
      ]
     },
     "metadata": {},
     "output_type": "display_data"
    }
   ],
   "source": [
    "hll1 = HllSet{10}()"
   ]
  }
 ],
 "metadata": {
  "kernelspec": {
   "display_name": "Julia 1.9.2",
   "language": "julia",
   "name": "julia-1.9"
  },
  "language_info": {
   "file_extension": ".jl",
   "mimetype": "application/julia",
   "name": "julia",
   "version": "1.9.2"
  }
 },
 "nbformat": 4,
 "nbformat_minor": 2
}
